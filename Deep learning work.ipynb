{
 "cells": [
  {
   "cell_type": "code",
   "execution_count": 54,
   "id": "11da76b0",
   "metadata": {},
   "outputs": [],
   "source": [
    "import pandas as pd\n",
    "import numpy as np\n",
    "import matplotlib.pyplot as plt\n",
    "import seaborn as sns\n",
    "from imblearn.over_sampling import RandomOverSampler\n",
    "from imblearn.over_sampling import SMOTE\n",
    "from sklearn.decomposition import PCA"
   ]
  },
  {
   "cell_type": "code",
   "execution_count": 55,
   "id": "f03d32ed",
   "metadata": {},
   "outputs": [],
   "source": [
    "file = pd.read_csv('C:/Users/hriti/OneDrive/Hritik/OneDrive/Downloads/HF_tf_normalized_mixed.csv')"
   ]
  },
  {
   "cell_type": "code",
   "execution_count": 56,
   "id": "27437840",
   "metadata": {},
   "outputs": [
    {
     "data": {
      "text/html": [
       "<div>\n",
       "<style scoped>\n",
       "    .dataframe tbody tr th:only-of-type {\n",
       "        vertical-align: middle;\n",
       "    }\n",
       "\n",
       "    .dataframe tbody tr th {\n",
       "        vertical-align: top;\n",
       "    }\n",
       "\n",
       "    .dataframe thead th {\n",
       "        text-align: right;\n",
       "    }\n",
       "</style>\n",
       "<table border=\"1\" class=\"dataframe\">\n",
       "  <thead>\n",
       "    <tr style=\"text-align: right;\">\n",
       "      <th></th>\n",
       "      <th>Length</th>\n",
       "      <th>Info</th>\n",
       "      <th>Transmission Rate (per 1000 ms)</th>\n",
       "      <th>Reception Rate (per 1000 ms)</th>\n",
       "      <th>TR / RR</th>\n",
       "      <th>Sources Count Per Sec</th>\n",
       "      <th>Destinations Count Per Sec</th>\n",
       "      <th>Trans Total Duration Per Sec</th>\n",
       "      <th>Rcv Total Duration Per Sec</th>\n",
       "      <th>Trans Average Per Sec</th>\n",
       "      <th>Rcv Average Per Sec</th>\n",
       "      <th>DAO</th>\n",
       "      <th>DIS</th>\n",
       "      <th>DIO</th>\n",
       "      <th>Label</th>\n",
       "    </tr>\n",
       "  </thead>\n",
       "  <tbody>\n",
       "    <tr>\n",
       "      <th>0</th>\n",
       "      <td>0.0</td>\n",
       "      <td>0.458711</td>\n",
       "      <td>0.385363</td>\n",
       "      <td>0.468181</td>\n",
       "      <td>0.364049</td>\n",
       "      <td>0.385117</td>\n",
       "      <td>0.468436</td>\n",
       "      <td>0.396105</td>\n",
       "      <td>0.576483</td>\n",
       "      <td>0.583196</td>\n",
       "      <td>0.597972</td>\n",
       "      <td>0.0</td>\n",
       "      <td>0.54597</td>\n",
       "      <td>0.0</td>\n",
       "      <td>1</td>\n",
       "    </tr>\n",
       "    <tr>\n",
       "      <th>1</th>\n",
       "      <td>0.0</td>\n",
       "      <td>0.458711</td>\n",
       "      <td>0.385363</td>\n",
       "      <td>0.468181</td>\n",
       "      <td>0.364049</td>\n",
       "      <td>0.385117</td>\n",
       "      <td>0.468436</td>\n",
       "      <td>0.396105</td>\n",
       "      <td>0.576483</td>\n",
       "      <td>0.583196</td>\n",
       "      <td>0.597972</td>\n",
       "      <td>0.0</td>\n",
       "      <td>0.54597</td>\n",
       "      <td>0.0</td>\n",
       "      <td>1</td>\n",
       "    </tr>\n",
       "    <tr>\n",
       "      <th>2</th>\n",
       "      <td>0.0</td>\n",
       "      <td>0.458711</td>\n",
       "      <td>0.385363</td>\n",
       "      <td>0.468181</td>\n",
       "      <td>0.364049</td>\n",
       "      <td>0.385117</td>\n",
       "      <td>0.468436</td>\n",
       "      <td>0.396105</td>\n",
       "      <td>0.576483</td>\n",
       "      <td>0.583196</td>\n",
       "      <td>0.597972</td>\n",
       "      <td>0.0</td>\n",
       "      <td>0.54597</td>\n",
       "      <td>0.0</td>\n",
       "      <td>1</td>\n",
       "    </tr>\n",
       "    <tr>\n",
       "      <th>3</th>\n",
       "      <td>0.0</td>\n",
       "      <td>0.458711</td>\n",
       "      <td>0.385363</td>\n",
       "      <td>0.468181</td>\n",
       "      <td>0.364049</td>\n",
       "      <td>0.385117</td>\n",
       "      <td>0.468436</td>\n",
       "      <td>0.396105</td>\n",
       "      <td>0.576483</td>\n",
       "      <td>0.583196</td>\n",
       "      <td>0.597972</td>\n",
       "      <td>0.0</td>\n",
       "      <td>0.54597</td>\n",
       "      <td>0.0</td>\n",
       "      <td>1</td>\n",
       "    </tr>\n",
       "    <tr>\n",
       "      <th>4</th>\n",
       "      <td>0.0</td>\n",
       "      <td>0.458711</td>\n",
       "      <td>0.385363</td>\n",
       "      <td>0.468181</td>\n",
       "      <td>0.364049</td>\n",
       "      <td>0.385117</td>\n",
       "      <td>0.468436</td>\n",
       "      <td>0.396105</td>\n",
       "      <td>0.576483</td>\n",
       "      <td>0.583196</td>\n",
       "      <td>0.597972</td>\n",
       "      <td>0.0</td>\n",
       "      <td>0.54597</td>\n",
       "      <td>0.0</td>\n",
       "      <td>1</td>\n",
       "    </tr>\n",
       "    <tr>\n",
       "      <th>5</th>\n",
       "      <td>0.0</td>\n",
       "      <td>0.458711</td>\n",
       "      <td>0.385363</td>\n",
       "      <td>0.468181</td>\n",
       "      <td>0.364049</td>\n",
       "      <td>0.385117</td>\n",
       "      <td>0.468436</td>\n",
       "      <td>0.396105</td>\n",
       "      <td>0.576483</td>\n",
       "      <td>0.583196</td>\n",
       "      <td>0.597972</td>\n",
       "      <td>0.0</td>\n",
       "      <td>0.54597</td>\n",
       "      <td>0.0</td>\n",
       "      <td>1</td>\n",
       "    </tr>\n",
       "    <tr>\n",
       "      <th>6</th>\n",
       "      <td>0.0</td>\n",
       "      <td>0.458711</td>\n",
       "      <td>0.385363</td>\n",
       "      <td>0.468181</td>\n",
       "      <td>0.364049</td>\n",
       "      <td>0.385117</td>\n",
       "      <td>0.468436</td>\n",
       "      <td>0.396105</td>\n",
       "      <td>0.576483</td>\n",
       "      <td>0.583196</td>\n",
       "      <td>0.597972</td>\n",
       "      <td>0.0</td>\n",
       "      <td>0.54597</td>\n",
       "      <td>0.0</td>\n",
       "      <td>1</td>\n",
       "    </tr>\n",
       "    <tr>\n",
       "      <th>7</th>\n",
       "      <td>0.0</td>\n",
       "      <td>0.458711</td>\n",
       "      <td>0.385363</td>\n",
       "      <td>0.468181</td>\n",
       "      <td>0.364049</td>\n",
       "      <td>0.385117</td>\n",
       "      <td>0.468436</td>\n",
       "      <td>0.396105</td>\n",
       "      <td>0.576483</td>\n",
       "      <td>0.583196</td>\n",
       "      <td>0.597972</td>\n",
       "      <td>0.0</td>\n",
       "      <td>0.54597</td>\n",
       "      <td>0.0</td>\n",
       "      <td>1</td>\n",
       "    </tr>\n",
       "    <tr>\n",
       "      <th>8</th>\n",
       "      <td>0.0</td>\n",
       "      <td>0.458711</td>\n",
       "      <td>0.385363</td>\n",
       "      <td>0.468181</td>\n",
       "      <td>0.364049</td>\n",
       "      <td>0.385117</td>\n",
       "      <td>0.468436</td>\n",
       "      <td>0.396105</td>\n",
       "      <td>0.576483</td>\n",
       "      <td>0.583196</td>\n",
       "      <td>0.597972</td>\n",
       "      <td>0.0</td>\n",
       "      <td>0.54597</td>\n",
       "      <td>0.0</td>\n",
       "      <td>1</td>\n",
       "    </tr>\n",
       "    <tr>\n",
       "      <th>9</th>\n",
       "      <td>0.0</td>\n",
       "      <td>0.458711</td>\n",
       "      <td>0.385363</td>\n",
       "      <td>0.468181</td>\n",
       "      <td>0.364049</td>\n",
       "      <td>0.385117</td>\n",
       "      <td>0.468436</td>\n",
       "      <td>0.396105</td>\n",
       "      <td>0.576483</td>\n",
       "      <td>0.583196</td>\n",
       "      <td>0.597972</td>\n",
       "      <td>0.0</td>\n",
       "      <td>0.54597</td>\n",
       "      <td>0.0</td>\n",
       "      <td>1</td>\n",
       "    </tr>\n",
       "  </tbody>\n",
       "</table>\n",
       "</div>"
      ],
      "text/plain": [
       "   Length      Info  Transmission Rate (per 1000 ms)  \\\n",
       "0     0.0  0.458711                         0.385363   \n",
       "1     0.0  0.458711                         0.385363   \n",
       "2     0.0  0.458711                         0.385363   \n",
       "3     0.0  0.458711                         0.385363   \n",
       "4     0.0  0.458711                         0.385363   \n",
       "5     0.0  0.458711                         0.385363   \n",
       "6     0.0  0.458711                         0.385363   \n",
       "7     0.0  0.458711                         0.385363   \n",
       "8     0.0  0.458711                         0.385363   \n",
       "9     0.0  0.458711                         0.385363   \n",
       "\n",
       "   Reception Rate (per 1000 ms)   TR / RR  Sources Count Per Sec  \\\n",
       "0                      0.468181  0.364049               0.385117   \n",
       "1                      0.468181  0.364049               0.385117   \n",
       "2                      0.468181  0.364049               0.385117   \n",
       "3                      0.468181  0.364049               0.385117   \n",
       "4                      0.468181  0.364049               0.385117   \n",
       "5                      0.468181  0.364049               0.385117   \n",
       "6                      0.468181  0.364049               0.385117   \n",
       "7                      0.468181  0.364049               0.385117   \n",
       "8                      0.468181  0.364049               0.385117   \n",
       "9                      0.468181  0.364049               0.385117   \n",
       "\n",
       "   Destinations Count Per Sec  Trans Total Duration Per Sec  \\\n",
       "0                    0.468436                      0.396105   \n",
       "1                    0.468436                      0.396105   \n",
       "2                    0.468436                      0.396105   \n",
       "3                    0.468436                      0.396105   \n",
       "4                    0.468436                      0.396105   \n",
       "5                    0.468436                      0.396105   \n",
       "6                    0.468436                      0.396105   \n",
       "7                    0.468436                      0.396105   \n",
       "8                    0.468436                      0.396105   \n",
       "9                    0.468436                      0.396105   \n",
       "\n",
       "   Rcv Total Duration Per Sec  Trans Average Per Sec  Rcv Average Per Sec  \\\n",
       "0                    0.576483               0.583196             0.597972   \n",
       "1                    0.576483               0.583196             0.597972   \n",
       "2                    0.576483               0.583196             0.597972   \n",
       "3                    0.576483               0.583196             0.597972   \n",
       "4                    0.576483               0.583196             0.597972   \n",
       "5                    0.576483               0.583196             0.597972   \n",
       "6                    0.576483               0.583196             0.597972   \n",
       "7                    0.576483               0.583196             0.597972   \n",
       "8                    0.576483               0.583196             0.597972   \n",
       "9                    0.576483               0.583196             0.597972   \n",
       "\n",
       "   DAO      DIS  DIO  Label  \n",
       "0  0.0  0.54597  0.0      1  \n",
       "1  0.0  0.54597  0.0      1  \n",
       "2  0.0  0.54597  0.0      1  \n",
       "3  0.0  0.54597  0.0      1  \n",
       "4  0.0  0.54597  0.0      1  \n",
       "5  0.0  0.54597  0.0      1  \n",
       "6  0.0  0.54597  0.0      1  \n",
       "7  0.0  0.54597  0.0      1  \n",
       "8  0.0  0.54597  0.0      1  \n",
       "9  0.0  0.54597  0.0      1  "
      ]
     },
     "execution_count": 56,
     "metadata": {},
     "output_type": "execute_result"
    }
   ],
   "source": [
    "file.head(10)"
   ]
  },
  {
   "cell_type": "code",
   "execution_count": 57,
   "id": "bc4b646c",
   "metadata": {},
   "outputs": [
    {
     "data": {
      "text/plain": [
       "1    2244415\n",
       "0    1129448\n",
       "Name: Label, dtype: int64"
      ]
     },
     "execution_count": 57,
     "metadata": {},
     "output_type": "execute_result"
    }
   ],
   "source": [
    "count=file[\"Label\"].value_counts()\n",
    "count"
   ]
  },
  {
   "cell_type": "code",
   "execution_count": 58,
   "id": "32b324e9",
   "metadata": {},
   "outputs": [
    {
     "data": {
      "image/png": "[encoded data removed]",
      "text/plain": [
       "<Figure size 640x480 with 1 Axes>"
      ]
     },
     "metadata": {},
     "output_type": "display_data"
    }
   ],
   "source": [
    "sns.countplot(x='Label', data=file)\n",
    "\n",
    "# Add a title and display the plot\n",
    "plt.title('Target Column Distribution')\n",
    "plt.show()"
   ]
  },
  {
   "cell_type": "code",
   "execution_count": 59,
   "id": "2fcffaa1",
   "metadata": {},
   "outputs": [
    {
     "data": {
      "text/plain": [
       "1114967"
      ]
     },
     "execution_count": 59,
     "metadata": {},
     "output_type": "execute_result"
    }
   ],
   "source": [
    "diff = count.max() - count.min()\n",
    "diff"
   ]
  },
  {
   "cell_type": "code",
   "execution_count": 60,
   "id": "7d60f2a1",
   "metadata": {},
   "outputs": [
    {
     "data": {
      "text/plain": [
       "<AxesSubplot:ylabel='Label'>"
      ]
     },
     "execution_count": 60,
     "metadata": {},
     "output_type": "execute_result"
    },
    {
     "data": {
      "image/png": "[encoded data removed]",
      "text/plain": [
       "<Figure size 640x480 with 1 Axes>"
      ]
     },
     "metadata": {},
     "output_type": "display_data"
    }
   ],
   "source": [
    "# Split the dataset into features and target\n",
    "X = file.drop('Label', axis=1)\n",
    "y = file['Label']\n",
    "\n",
    "# Apply over-sampling\n",
    "ros = RandomOverSampler(random_state=0)\n",
    "X_resampled, y_resampled = ros.fit_resample(X, y)\n",
    "ax = y_resampled.value_counts()\n",
    "sns.barplot(x = [0, 1], y = ax)"
   ]
  },
  {
   "cell_type": "code",
   "execution_count": 61,
   "id": "9218e5ae",
   "metadata": {},
   "outputs": [],
   "source": [
    "sm = SMOTE(random_state=42)\n",
    "X_resampled, y_resampled = sm.fit_resample(X, y)"
   ]
  },
  {
   "cell_type": "code",
   "execution_count": 62,
   "id": "cc7cbe99",
   "metadata": {
    "scrolled": true
   },
   "outputs": [
    {
     "data": {
      "text/plain": [
       "array([[-0.73399198, -0.10995425, -1.21152223, ...,  0.73128291,\n",
       "        -0.42707027,  0.70938425],\n",
       "       [-0.73399198, -0.10995425, -1.21152223, ...,  0.73128291,\n",
       "        -0.42707027,  0.70938425],\n",
       "       [-0.73399198, -0.10995425, -1.21152223, ...,  0.73128291,\n",
       "        -0.42707027,  0.70938425],\n",
       "       ...,\n",
       "       [ 0.9791072 , -1.91590081, -2.21680473, ..., -1.27926329,\n",
       "        -0.42707027, -1.40967326],\n",
       "       [ 0.9791072 , -1.91590081, -2.32523882, ..., -1.27926329,\n",
       "        -0.42707027, -1.40967326],\n",
       "       [ 0.9791072 , -1.91590081, -1.93255347, ..., -1.27926329,\n",
       "        -0.42707027, -1.40967326]])"
      ]
     },
     "execution_count": 62,
     "metadata": {},
     "output_type": "execute_result"
    }
   ],
   "source": [
    "from sklearn.preprocessing import MinMaxScaler\n",
    "from sklearn.preprocessing import StandardScaler\n",
    "scaler= StandardScaler()\n",
    "scaler.fit(file)\n",
    "scaled_data = scaler.transform(file)\n",
    "scaled_data"
   ]
  },
  {
   "cell_type": "code",
   "execution_count": 63,
   "id": "bef6f344",
   "metadata": {},
   "outputs": [
    {
     "data": {
      "image/png": "[encoded data removed]",
      "text/plain": [
       "<Figure size 640x480 with 1 Axes>"
      ]
     },
     "metadata": {},
     "output_type": "display_data"
    }
   ],
   "source": [
    "pca = PCA()\n",
    "pca.fit(file)\n",
    "cumvar = (np.cumsum(pca.explained_variance_ratio_))\n",
    "plt.plot(cumvar)\n",
    "\n",
    "plt.xlabel('Number of components')\n",
    "plt.ylabel('cumulative explained variance')\n",
    "plt.show()"
   ]
  },
  {
   "cell_type": "code",
   "execution_count": 64,
   "id": "cc5af862",
   "metadata": {},
   "outputs": [
    {
     "data": {
      "text/plain": [
       "6"
      ]
     },
     "execution_count": 64,
     "metadata": {},
     "output_type": "execute_result"
    }
   ],
   "source": [
    "#for 95% variance\n",
    "n_components_95 = np.argmax(cumvar >= 0.95) + 1\n",
    "n_components_95\n"
   ]
  },
  {
   "cell_type": "code",
   "execution_count": 65,
   "id": "9214383b",
   "metadata": {},
   "outputs": [
    {
     "data": {
      "text/plain": [
       "9"
      ]
     },
     "execution_count": 65,
     "metadata": {},
     "output_type": "execute_result"
    }
   ],
   "source": [
    "#for 99% variance\n",
    "n_components_99 = np.argmax(cumvar >= 0.99) + 1\n",
    "n_components_99"
   ]
  },
  {
   "cell_type": "code",
   "execution_count": 66,
   "id": "6e0e30af",
   "metadata": {},
   "outputs": [
    {
     "data": {
      "text/html": [
       "<style>#sk-container-id-2 {color: black;background-color: white;}#sk-container-id-2 pre{padding: 0;}#sk-container-id-2 div.sk-toggleable {background-color: white;}#sk-container-id-2 label.sk-toggleable__label {cursor: pointer;display: block;width: 100%;margin-bottom: 0;padding: 0.3em;box-sizing: border-box;text-align: center;}#sk-container-id-2 label.sk-toggleable__label-arrow:before {content: \"▸\";float: left;margin-right: 0.25em;color: #696969;}#sk-container-id-2 label.sk-toggleable__label-arrow:hover:before {color: black;}#sk-container-id-2 div.sk-estimator:hover label.sk-toggleable__label-arrow:before {color: black;}#sk-container-id-2 div.sk-toggleable__content {max-height: 0;max-width: 0;overflow: hidden;text-align: left;background-color: #f0f8ff;}#sk-container-id-2 div.sk-toggleable__content pre {margin: 0.2em;color: black;border-radius: 0.25em;background-color: #f0f8ff;}#sk-container-id-2 input.sk-toggleable__control:checked~div.sk-toggleable__content {max-height: 200px;max-width: 100%;overflow: auto;}#sk-container-id-2 input.sk-toggleable__control:checked~label.sk-toggleable__label-arrow:before {content: \"▾\";}#sk-container-id-2 div.sk-estimator input.sk-toggleable__control:checked~label.sk-toggleable__label {background-color: #d4ebff;}#sk-container-id-2 div.sk-label input.sk-toggleable__control:checked~label.sk-toggleable__label {background-color: #d4ebff;}#sk-container-id-2 input.sk-hidden--visually {border: 0;clip: rect(1px 1px 1px 1px);clip: rect(1px, 1px, 1px, 1px);height: 1px;margin: -1px;overflow: hidden;padding: 0;position: absolute;width: 1px;}#sk-container-id-2 div.sk-estimator {font-family: monospace;background-color: #f0f8ff;border: 1px dotted black;border-radius: 0.25em;box-sizing: border-box;margin-bottom: 0.5em;}#sk-container-id-2 div.sk-estimator:hover {background-color: #d4ebff;}#sk-container-id-2 div.sk-parallel-item::after {content: \"\";width: 100%;border-bottom: 1px solid gray;flex-grow: 1;}#sk-container-id-2 div.sk-label:hover label.sk-toggleable__label {background-color: #d4ebff;}#sk-container-id-2 div.sk-serial::before {content: \"\";position: absolute;border-left: 1px solid gray;box-sizing: border-box;top: 0;bottom: 0;left: 50%;z-index: 0;}#sk-container-id-2 div.sk-serial {display: flex;flex-direction: column;align-items: center;background-color: white;padding-right: 0.2em;padding-left: 0.2em;position: relative;}#sk-container-id-2 div.sk-item {position: relative;z-index: 1;}#sk-container-id-2 div.sk-parallel {display: flex;align-items: stretch;justify-content: center;background-color: white;position: relative;}#sk-container-id-2 div.sk-item::before, #sk-container-id-2 div.sk-parallel-item::before {content: \"\";position: absolute;border-left: 1px solid gray;box-sizing: border-box;top: 0;bottom: 0;left: 50%;z-index: -1;}#sk-container-id-2 div.sk-parallel-item {display: flex;flex-direction: column;z-index: 1;position: relative;background-color: white;}#sk-container-id-2 div.sk-parallel-item:first-child::after {align-self: flex-end;width: 50%;}#sk-container-id-2 div.sk-parallel-item:last-child::after {align-self: flex-start;width: 50%;}#sk-container-id-2 div.sk-parallel-item:only-child::after {width: 0;}#sk-container-id-2 div.sk-dashed-wrapped {border: 1px dashed gray;margin: 0 0.4em 0.5em 0.4em;box-sizing: border-box;padding-bottom: 0.4em;background-color: white;}#sk-container-id-2 div.sk-label label {font-family: monospace;font-weight: bold;display: inline-block;line-height: 1.2em;}#sk-container-id-2 div.sk-label-container {text-align: center;}#sk-container-id-2 div.sk-container {/* jupyter's `normalize.less` sets `[hidden] { display: none; }` but bootstrap.min.css set `[hidden] { display: none !important; }` so we also need the `!important` here to be able to override the default hidden behavior on the sphinx rendered scikit-learn.org. See: https://github.com/scikit-learn/scikit-learn/issues/21755 */display: inline-block !important;position: relative;}#sk-container-id-2 div.sk-text-repr-fallback {display: none;}</style><div id=\"sk-container-id-2\" class=\"sk-top-container\"><div class=\"sk-text-repr-fallback\"><pre>PCA(n_components=6)</pre><b>In a Jupyter environment, please rerun this cell to show the HTML representation or trust the notebook. <br />On GitHub, the HTML representation is unable to render, please try loading this page with nbviewer.org.</b></div><div class=\"sk-container\" hidden><div class=\"sk-item\"><div class=\"sk-estimator sk-toggleable\"><input class=\"sk-toggleable__control sk-hidden--visually\" id=\"sk-estimator-id-2\" type=\"checkbox\" checked><label for=\"sk-estimator-id-2\" class=\"sk-toggleable__label sk-toggleable__label-arrow\">PCA</label><div class=\"sk-toggleable__content\"><pre>PCA(n_components=6)</pre></div></div></div></div></div>"
      ],
      "text/plain": [
       "PCA(n_components=6)"
      ]
     },
     "execution_count": 66,
     "metadata": {},
     "output_type": "execute_result"
    }
   ],
   "source": [
    "pca = PCA(n_components=n_components_95)\n",
    "pca.fit(file)"
   ]
  },
  {
   "cell_type": "code",
   "execution_count": 67,
   "id": "8a4ca7fb",
   "metadata": {},
   "outputs": [
    {
     "data": {
      "image/png": "[encoded data removed]",
      "text/plain": [
       "<Figure size 640x480 with 1 Axes>"
      ]
     },
     "metadata": {},
     "output_type": "display_data"
    }
   ],
   "source": [
    "plt.plot(cumvar)\n",
    "# Mark the number of components required to explain 95% and 99% of the variance\n",
    "plt.axvline(x=n_components_95, color='r', linestyle='--', label='95% Variance')\n",
    "plt.axvline(x=n_components_99, color='g', linestyle='--', label='99% Variance')\n",
    "plt.axhline(y=0.95, color='r', linestyle='--', label='95% Variance')\n",
    "plt.axhline(y=0.99, color='g', linestyle='--', label='99% Variance')\n",
    "\n",
    "plt.xlabel('Number of components')\n",
    "plt.ylabel('Cumulative explained variance')\n",
    "plt.legend(loc='best')\n",
    "plt.show()"
   ]
  },
  {
   "cell_type": "code",
   "execution_count": 68,
   "id": "38e83b71",
   "metadata": {},
   "outputs": [
    {
     "name": "stdout",
     "output_type": "stream",
     "text": [
      "Data lost: 4.30%\n"
     ]
    }
   ],
   "source": [
    "'''\n",
    "For 95% variance we have to take 6 components \n",
    "for 6 components we are finding data loss, the code is given below\n",
    "'''\n",
    "pca = PCA(n_components=6)\n",
    "pca.fit(file)\n",
    "\n",
    "# Calculate the amount of data lost\n",
    "data_lost = 1 - pca.explained_variance_ratio_.sum()\n",
    "\n",
    "print(\"Data lost: {:.2f}%\".format(100 * data_lost))"
   ]
  },
  {
   "cell_type": "code",
   "execution_count": 69,
   "id": "02fe73e7",
   "metadata": {},
   "outputs": [
    {
     "name": "stdout",
     "output_type": "stream",
     "text": [
      "Data lost: 0.88%\n"
     ]
    }
   ],
   "source": [
    "'''\n",
    "For 99% variance we have to take 9 components \n",
    "for 9 components we are finding data loss, the code is given below\n",
    "'''\n",
    "pca = PCA(n_components=9)\n",
    "pca.fit(file)\n",
    "\n",
    "# Calculate the amount of data lost\n",
    "data_lost = 1 - pca.explained_variance_ratio_.sum()\n",
    "\n",
    "print(\"Data lost: {:.2f}%\".format(100 * data_lost))"
   ]
  },
  {
   "cell_type": "code",
   "execution_count": 70,
   "id": "960718a9",
   "metadata": {},
   "outputs": [
    {
     "data": {
      "text/plain": [
       "(3373863, 15)"
      ]
     },
     "execution_count": 70,
     "metadata": {},
     "output_type": "execute_result"
    }
   ],
   "source": [
    "#Feature extraction method\n",
    "from sklearn.decomposition import PCA\n",
    "pca = PCA(n_components=6)\n",
    "pca.fit(scaled_data)\n",
    "x_pca=pca.transform(scaled_data)\n",
    "scaled_data.shape"
   ]
  },
  {
   "cell_type": "code",
   "execution_count": 71,
   "id": "e495d4db",
   "metadata": {},
   "outputs": [
    {
     "data": {
      "text/plain": [
       "(3373863, 6)"
      ]
     },
     "execution_count": 71,
     "metadata": {},
     "output_type": "execute_result"
    }
   ],
   "source": [
    "x_pca.shape"
   ]
  },
  {
   "cell_type": "code",
   "execution_count": 72,
   "id": "20106686",
   "metadata": {},
   "outputs": [
    {
     "data": {
      "text/plain": [
       "array([[-1.307649  ,  1.6153883 , -1.10442553,  1.95032622, -0.15093693,\n",
       "         0.21949336],\n",
       "       [-1.307649  ,  1.6153883 , -1.10442553,  1.95032622, -0.15093693,\n",
       "         0.21949336],\n",
       "       [-1.307649  ,  1.6153883 , -1.10442553,  1.95032622, -0.15093693,\n",
       "         0.21949336],\n",
       "       ...,\n",
       "       [ 4.38664112,  3.19926675,  2.0971309 ,  3.38733662, -0.13188011,\n",
       "        -0.81357761],\n",
       "       [ 3.16163192,  3.68210486,  5.05770686,  2.12041285,  0.92420825,\n",
       "        -1.09948522],\n",
       "       [ 4.30641839,  2.8989893 ,  2.27292132,  3.1345696 , -0.05864616,\n",
       "        -0.87801326]])"
      ]
     },
     "execution_count": 72,
     "metadata": {},
     "output_type": "execute_result"
    }
   ],
   "source": [
    "x_pca"
   ]
  },
  {
   "cell_type": "code",
   "execution_count": 73,
   "id": "db7ae759",
   "metadata": {},
   "outputs": [],
   "source": [
    "from sklearn.neighbors import KNeighborsClassifier\n",
    "from sklearn.model_selection import train_test_split\n",
    "import time"
   ]
  },
  {
   "cell_type": "code",
   "execution_count": 75,
   "id": "68729285",
   "metadata": {},
   "outputs": [
    {
     "ename": "SyntaxError",
     "evalue": "incomplete input (3282771442.py, line 1)",
     "output_type": "error",
     "traceback": [
      "\u001b[1;36m  Input \u001b[1;32mIn [75]\u001b[1;36m\u001b[0m\n\u001b[1;33m    ''''\u001b[0m\n\u001b[1;37m    ^\u001b[0m\n\u001b[1;31mSyntaxError\u001b[0m\u001b[1;31m:\u001b[0m incomplete input\n"
     ]
    }
   ],
   "source": [
    "''''\n",
    "# Split the data into training and validation sets\n",
    "X_train, X_val, y_train, y_val = train_test_split(x_pca, y, test_size=0.2, random_state=0)\n",
    "\n",
    "# Create a list to store the accuracy for different values of k\n",
    "accuracies = []\n",
    "\n",
    "# Loop over different values of k\n",
    "for k in range(1, 9):\n",
    "    knn = KNeighborsClassifier(n_neighbors=k)\n",
    "    knn.fit(X_train, y_train)\n",
    "    y_pred = knn.predict(X_val)\n",
    "    accuracy = knn.score(X_val, y_val)\n",
    "    accuracies.append(accuracy)\n",
    "\n",
    "# Plot the accuracy versus k\n",
    "plt.plot(range(1, 9), accuracies)\n",
    "plt.xlabel('Number of Neighbors (k)')\n",
    "plt.ylabel('Accuracy')\n",
    "plt.title('Accuracy versus Number of Neighbors (k)')\n",
    "plt.show()"
   ]
  },
  {
   "cell_type": "code",
   "execution_count": 81,
   "id": "2420d0ed",
   "metadata": {},
   "outputs": [
    {
     "name": "stdout",
     "output_type": "stream",
     "text": [
      "Training time:  16.31136441230774\n",
      "Testing time:  331.5478205680847\n"
     ]
    }
   ],
   "source": [
    "# Split the data into training and test sets\n",
    "X_train, X_test, y_train, y_test = train_test_split(X, y, test_size=0.2)\n",
    "\n",
    "# Create a K-NN classifier\n",
    "knn = KNeighborsClassifier(n_neighbors=9)\n",
    "\n",
    "# Get the current time\n",
    "start_time = time.time()\n",
    "\n",
    "# Fit the classifier to the training data\n",
    "knn.fit(X_train, y_train)\n",
    "\n",
    "# Get the training time\n",
    "training_time = time.time() - start_time\n",
    "\n",
    "# Get the current time\n",
    "start_time = time.time()\n",
    "\n",
    "# Get predictions for the test set\n",
    "y_pred = knn.predict(X_test)\n",
    "\n",
    "# Get the testing time\n",
    "testing_time = time.time() - start_time\n",
    "\n",
    "print(\"Training time: \", training_time)\n",
    "print(\"Testing time: \", testing_time)"
   ]
  },
  {
   "cell_type": "code",
   "execution_count": 82,
   "id": "eccf3e27",
   "metadata": {},
   "outputs": [],
   "source": [
    "from sklearn.metrics import accuracy_score, precision_score, recall_score, f1_score"
   ]
  },
  {
   "cell_type": "code",
   "execution_count": 83,
   "id": "a1383046",
   "metadata": {},
   "outputs": [
    {
     "name": "stdout",
     "output_type": "stream",
     "text": [
      "Accuracy:  0.9998888515100633\n",
      "Precision:  0.9998888507816992\n",
      "Recall:  0.9998888515100633\n",
      "F1-score:  0.9998888505909042\n"
     ]
    }
   ],
   "source": [
    "# Get predictions for the test set\n",
    "y_pred = knn.predict(X_test)\n",
    "\n",
    "# Compute the accuracy\n",
    "accuracy = accuracy_score(y_test, y_pred)\n",
    "\n",
    "# Compute the precision\n",
    "precision = precision_score(y_test, y_pred, average='weighted')\n",
    "\n",
    "# Compute the recall\n",
    "recall = recall_score(y_test, y_pred, average='weighted')\n",
    "\n",
    "# Compute the F1-score\n",
    "f1 = f1_score(y_test, y_pred, average='weighted')\n",
    "\n",
    "print(\"Accuracy: \", accuracy)\n",
    "print(\"Precision: \", precision)\n",
    "print(\"Recall: \", recall)\n",
    "print(\"F1-score: \", f1)"
   ]
  },
  {
   "cell_type": "code",
   "execution_count": 79,
   "id": "78e4147b",
   "metadata": {},
   "outputs": [],
   "source": [
    "from sklearn.linear_model import LogisticRegression\n",
    "from sklearn.model_selection import train_test_split"
   ]
  },
  {
   "cell_type": "code",
   "execution_count": 80,
   "id": "1752df1b",
   "metadata": {},
   "outputs": [
    {
     "name": "stdout",
     "output_type": "stream",
     "text": [
      "Accuracy: 0.9989418663758034\n"
     ]
    }
   ],
   "source": [
    "clf = LogisticRegression(random_state=42)\n",
    "clf.fit(X_train, y_train)\n",
    "\n",
    "# Make predictions on the test set\n",
    "y_pred = clf.predict(X_test)\n",
    "\n",
    "# Evaluate the model's performance\n",
    "from sklearn.metrics import accuracy_score\n",
    "print(\"Accuracy:\", accuracy_score(y_test, y_pred))"
   ]
  }
 ],
 "metadata": {
  "kernelspec": {
   "display_name": "Python 3 (ipykernel)",
   "language": "python",
   "name": "python3"
  },
  "language_info": {
   "codemirror_mode": {
    "name": "ipython",
    "version": 3
   },
   "file_extension": ".py",
   "mimetype": "text/x-python",
   "name": "python",
   "nbconvert_exporter": "python",
   "pygments_lexer": "ipython3",
   "version": "3.9.13"
  }
 },
 "nbformat": 4,
 "nbformat_minor": 5
}
