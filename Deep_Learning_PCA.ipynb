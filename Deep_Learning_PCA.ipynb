{
 "cells": [
  {
   "cell_type": "code",
   "execution_count": 1,
   "id": "5d34309a",
   "metadata": {},
   "outputs": [],
   "source": [
    "#importlibraries\n",
    "import pandas as pd\n",
    "import numpy as np\n",
    "import matplotlib.pyplot as plt\n",
    "import seaborn as sns"
   ]
  },
  {
   "cell_type": "code",
   "execution_count": 2,
   "id": "5998c0ce",
   "metadata": {},
   "outputs": [],
   "source": [
    "myfile = pd.read_csv('C:/Users/Lenovo/Downloads/VN_tf.csv')"
   ]
  },
  {
   "cell_type": "code",
   "execution_count": 3,
   "id": "b466c37b",
   "metadata": {},
   "outputs": [
    {
     "name": "stdout",
     "output_type": "stream",
     "text": [
      "<class 'pandas.core.frame.DataFrame'>\n",
      "RangeIndex: 1203588 entries, 0 to 1203587\n",
      "Data columns (total 15 columns):\n",
      " #   Column                           Non-Null Count    Dtype  \n",
      "---  ------                           --------------    -----  \n",
      " 0   Length                           1203588 non-null  float64\n",
      " 1   Info                             1203588 non-null  float64\n",
      " 2   Transmission Rate (per 1000 ms)  1203588 non-null  float64\n",
      " 3   Reception Rate (per 1000 ms)     1203588 non-null  float64\n",
      " 4   TR / RR                          1203588 non-null  float64\n",
      " 5   Sources Count Per Sec            1203588 non-null  float64\n",
      " 6   Destinations Count Per Sec       1203588 non-null  float64\n",
      " 7   Trans Total Duration Per Sec     1203588 non-null  float64\n",
      " 8   Rcv Total Duration Per Sec       1203588 non-null  float64\n",
      " 9   Trans Average Per Sec            1203588 non-null  float64\n",
      " 10  Rcv Average Per Sec              1203588 non-null  float64\n",
      " 11  DAO                              1203588 non-null  float64\n",
      " 12  DIS                              1203588 non-null  float64\n",
      " 13  DIO                              1203588 non-null  float64\n",
      " 14  Label                            1203588 non-null  int64  \n",
      "dtypes: float64(14), int64(1)\n",
      "memory usage: 137.7 MB\n"
     ]
    }
   ],
   "source": [
    "myfile.info()"
   ]
  },
  {
   "cell_type": "code",
   "execution_count": 4,
   "id": "a93bd388",
   "metadata": {},
   "outputs": [
    {
     "data": {
      "text/html": [
       "<div>\n",
       "<style scoped>\n",
       "    .dataframe tbody tr th:only-of-type {\n",
       "        vertical-align: middle;\n",
       "    }\n",
       "\n",
       "    .dataframe tbody tr th {\n",
       "        vertical-align: top;\n",
       "    }\n",
       "\n",
       "    .dataframe thead th {\n",
       "        text-align: right;\n",
       "    }\n",
       "</style>\n",
       "<table border=\"1\" class=\"dataframe\">\n",
       "  <thead>\n",
       "    <tr style=\"text-align: right;\">\n",
       "      <th></th>\n",
       "      <th>Length</th>\n",
       "      <th>Info</th>\n",
       "      <th>Transmission Rate (per 1000 ms)</th>\n",
       "      <th>Reception Rate (per 1000 ms)</th>\n",
       "      <th>TR / RR</th>\n",
       "      <th>Sources Count Per Sec</th>\n",
       "      <th>Destinations Count Per Sec</th>\n",
       "      <th>Trans Total Duration Per Sec</th>\n",
       "      <th>Rcv Total Duration Per Sec</th>\n",
       "      <th>Trans Average Per Sec</th>\n",
       "      <th>Rcv Average Per Sec</th>\n",
       "      <th>DAO</th>\n",
       "      <th>DIS</th>\n",
       "      <th>DIO</th>\n",
       "      <th>Label</th>\n",
       "    </tr>\n",
       "  </thead>\n",
       "  <tbody>\n",
       "    <tr>\n",
       "      <th>0</th>\n",
       "      <td>0.0</td>\n",
       "      <td>0.491786</td>\n",
       "      <td>0.437764</td>\n",
       "      <td>0.764212</td>\n",
       "      <td>0.27632</td>\n",
       "      <td>0.438505</td>\n",
       "      <td>0.755007</td>\n",
       "      <td>0.482277</td>\n",
       "      <td>0.729485</td>\n",
       "      <td>0.685771</td>\n",
       "      <td>0.459108</td>\n",
       "      <td>0.0</td>\n",
       "      <td>1.0</td>\n",
       "      <td>0.0</td>\n",
       "      <td>1</td>\n",
       "    </tr>\n",
       "    <tr>\n",
       "      <th>1</th>\n",
       "      <td>0.0</td>\n",
       "      <td>0.491786</td>\n",
       "      <td>0.437764</td>\n",
       "      <td>0.764212</td>\n",
       "      <td>0.27632</td>\n",
       "      <td>0.438505</td>\n",
       "      <td>0.755007</td>\n",
       "      <td>0.482277</td>\n",
       "      <td>0.729485</td>\n",
       "      <td>0.685771</td>\n",
       "      <td>0.459108</td>\n",
       "      <td>0.0</td>\n",
       "      <td>1.0</td>\n",
       "      <td>0.0</td>\n",
       "      <td>1</td>\n",
       "    </tr>\n",
       "    <tr>\n",
       "      <th>2</th>\n",
       "      <td>0.0</td>\n",
       "      <td>0.491786</td>\n",
       "      <td>0.437764</td>\n",
       "      <td>0.764212</td>\n",
       "      <td>0.27632</td>\n",
       "      <td>0.438505</td>\n",
       "      <td>0.755007</td>\n",
       "      <td>0.482277</td>\n",
       "      <td>0.729485</td>\n",
       "      <td>0.685771</td>\n",
       "      <td>0.459108</td>\n",
       "      <td>0.0</td>\n",
       "      <td>1.0</td>\n",
       "      <td>0.0</td>\n",
       "      <td>1</td>\n",
       "    </tr>\n",
       "    <tr>\n",
       "      <th>3</th>\n",
       "      <td>0.0</td>\n",
       "      <td>0.491786</td>\n",
       "      <td>0.437764</td>\n",
       "      <td>0.764212</td>\n",
       "      <td>0.27632</td>\n",
       "      <td>0.438505</td>\n",
       "      <td>0.755007</td>\n",
       "      <td>0.482277</td>\n",
       "      <td>0.729485</td>\n",
       "      <td>0.685771</td>\n",
       "      <td>0.459108</td>\n",
       "      <td>0.0</td>\n",
       "      <td>1.0</td>\n",
       "      <td>0.0</td>\n",
       "      <td>1</td>\n",
       "    </tr>\n",
       "    <tr>\n",
       "      <th>4</th>\n",
       "      <td>0.0</td>\n",
       "      <td>0.491786</td>\n",
       "      <td>0.437764</td>\n",
       "      <td>0.764212</td>\n",
       "      <td>0.27632</td>\n",
       "      <td>0.438505</td>\n",
       "      <td>0.755007</td>\n",
       "      <td>0.482277</td>\n",
       "      <td>0.729485</td>\n",
       "      <td>0.685771</td>\n",
       "      <td>0.459108</td>\n",
       "      <td>0.0</td>\n",
       "      <td>1.0</td>\n",
       "      <td>0.0</td>\n",
       "      <td>1</td>\n",
       "    </tr>\n",
       "  </tbody>\n",
       "</table>\n",
       "</div>"
      ],
      "text/plain": [
       "   Length      Info  Transmission Rate (per 1000 ms)  \\\n",
       "0     0.0  0.491786                         0.437764   \n",
       "1     0.0  0.491786                         0.437764   \n",
       "2     0.0  0.491786                         0.437764   \n",
       "3     0.0  0.491786                         0.437764   \n",
       "4     0.0  0.491786                         0.437764   \n",
       "\n",
       "   Reception Rate (per 1000 ms)  TR / RR  Sources Count Per Sec  \\\n",
       "0                      0.764212  0.27632               0.438505   \n",
       "1                      0.764212  0.27632               0.438505   \n",
       "2                      0.764212  0.27632               0.438505   \n",
       "3                      0.764212  0.27632               0.438505   \n",
       "4                      0.764212  0.27632               0.438505   \n",
       "\n",
       "   Destinations Count Per Sec  Trans Total Duration Per Sec  \\\n",
       "0                    0.755007                      0.482277   \n",
       "1                    0.755007                      0.482277   \n",
       "2                    0.755007                      0.482277   \n",
       "3                    0.755007                      0.482277   \n",
       "4                    0.755007                      0.482277   \n",
       "\n",
       "   Rcv Total Duration Per Sec  Trans Average Per Sec  Rcv Average Per Sec  \\\n",
       "0                    0.729485               0.685771             0.459108   \n",
       "1                    0.729485               0.685771             0.459108   \n",
       "2                    0.729485               0.685771             0.459108   \n",
       "3                    0.729485               0.685771             0.459108   \n",
       "4                    0.729485               0.685771             0.459108   \n",
       "\n",
       "   DAO  DIS  DIO  Label  \n",
       "0  0.0  1.0  0.0      1  \n",
       "1  0.0  1.0  0.0      1  \n",
       "2  0.0  1.0  0.0      1  \n",
       "3  0.0  1.0  0.0      1  \n",
       "4  0.0  1.0  0.0      1  "
      ]
     },
     "execution_count": 4,
     "metadata": {},
     "output_type": "execute_result"
    }
   ],
   "source": [
    "myfile.head(5)"
   ]
  },
  {
   "cell_type": "code",
   "execution_count": 5,
   "id": "136449b7",
   "metadata": {},
   "outputs": [],
   "source": [
    "#target value \"Label\"\n",
    "x = myfile.drop([\"Label\"],axis = 1)\n",
    "y = myfile[\"Label\"]"
   ]
  },
  {
   "cell_type": "code",
   "execution_count": 6,
   "id": "40fd2666",
   "metadata": {},
   "outputs": [
    {
     "data": {
      "text/plain": [
       "0    700262\n",
       "1    503326\n",
       "Name: Label, dtype: int64"
      ]
     },
     "execution_count": 6,
     "metadata": {},
     "output_type": "execute_result"
    }
   ],
   "source": [
    "y.value_counts()"
   ]
  },
  {
   "cell_type": "code",
   "execution_count": 7,
   "id": "3d06e052",
   "metadata": {},
   "outputs": [
    {
     "data": {
      "text/plain": [
       "<AxesSubplot:ylabel='Label'>"
      ]
     },
     "execution_count": 7,
     "metadata": {},
     "output_type": "execute_result"
    },
    {
     "data": {
      "image/png": "[encoded data removed]",
      "text/plain": [
       "<Figure size 640x480 with 1 Axes>"
      ]
     },
     "metadata": {},
     "output_type": "display_data"
    }
   ],
   "source": [
    "#show pie plot\n",
    "y.value_counts().plot.pie(autopct = \"%.2f\")"
   ]
  },
  {
   "cell_type": "code",
   "execution_count": 8,
   "id": "13d0a781",
   "metadata": {},
   "outputs": [
    {
     "data": {
      "image/png": "[encoded data removed]",
      "text/plain": [
       "<Figure size 640x480 with 1 Axes>"
      ]
     },
     "metadata": {},
     "output_type": "display_data"
    }
   ],
   "source": [
    "#oversampling\n",
    "from imblearn.over_sampling import RandomOverSampler\n",
    "\n",
    "ros = RandomOverSampler(sampling_strategy = 1) \n",
    "x_res, y_res = ros.fit_resample(x, y)\n",
    "\n",
    "ax = y_res.value_counts().plot.pie(autopct='%.2f')\n",
    "_ = ax.set_title(\"Over-sampling\")\n",
    "\n"
   ]
  },
  {
   "cell_type": "code",
   "execution_count": 9,
   "id": "26378a92",
   "metadata": {},
   "outputs": [
    {
     "data": {
      "text/plain": [
       "1    700262\n",
       "0    700262\n",
       "Name: Label, dtype: int64"
      ]
     },
     "execution_count": 9,
     "metadata": {},
     "output_type": "execute_result"
    }
   ],
   "source": [
    "y_res.value_counts()"
   ]
  },
  {
   "cell_type": "code",
   "execution_count": 10,
   "id": "7bf65322",
   "metadata": {},
   "outputs": [],
   "source": [
    "from imblearn.over_sampling import SMOTE\n",
    "\n",
    "sm = SMOTE(random_state=42)\n",
    "x_resampled, y_resampled = sm.fit_resample(x, y)"
   ]
  },
  {
   "cell_type": "code",
   "execution_count": 11,
   "id": "bcf62822",
   "metadata": {},
   "outputs": [
    {
     "data": {
      "text/plain": [
       "array([[-2.54561245,  0.27347281, -0.62670888, ...,  7.56834237,\n",
       "        -0.90499267,  1.17952078],\n",
       "       [-2.54561245,  0.27347281, -0.62670888, ...,  7.56834237,\n",
       "        -0.90499267,  1.17952078],\n",
       "       [-2.54561245,  0.27347281, -0.62670888, ...,  7.56834237,\n",
       "        -0.90499267,  1.17952078],\n",
       "       ...,\n",
       "       [ 0.09505121,  0.54815145, -2.96956151, ..., -0.13771317,\n",
       "        -0.90499267, -0.84780193],\n",
       "       [ 0.09505121,  0.54815145, -1.19466474, ..., -0.13771317,\n",
       "        -0.90499267, -0.84780193],\n",
       "       [ 0.09505121,  0.54815145, -0.94934724, ..., -0.13771317,\n",
       "        -0.90499267, -0.84780193]])"
      ]
     },
     "execution_count": 11,
     "metadata": {},
     "output_type": "execute_result"
    }
   ],
   "source": [
    "from sklearn.preprocessing import MinMaxScaler\n",
    "from sklearn.preprocessing import StandardScaler\n",
    "scaler= StandardScaler()\n",
    "scaler.fit(myfile)\n",
    "scaled_data = scaler.transform(myfile)\n",
    "scaled_data"
   ]
  },
  {
   "cell_type": "code",
   "execution_count": 12,
   "id": "20919f8a",
   "metadata": {},
   "outputs": [
    {
     "data": {
      "image/png": "[encoded data removed]",
      "text/plain": [
       "<Figure size 640x480 with 1 Axes>"
      ]
     },
     "metadata": {},
     "output_type": "display_data"
    }
   ],
   "source": [
    "#Feature extraction method\n",
    "from sklearn.decomposition import PCA\n",
    "pca = PCA()\n",
    "pca.fit(scaled_data)\n",
    "cumvar = (np.cumsum(pca.explained_variance_ratio_))\n",
    "plt.plot(cumvar)\n",
    "\n",
    "plt.xlabel('Number of components')\n",
    "plt.ylabel('cumulative explained variance')\n",
    "plt.show()\n"
   ]
  },
  {
   "cell_type": "code",
   "execution_count": 13,
   "id": "46581ae6",
   "metadata": {},
   "outputs": [
    {
     "data": {
      "text/plain": [
       "7"
      ]
     },
     "execution_count": 13,
     "metadata": {},
     "output_type": "execute_result"
    }
   ],
   "source": [
    "#for 95% variance\n",
    "n_components_95 = np.argmax(cumvar >= 0.95) + 1\n",
    "n_components_95\n"
   ]
  },
  {
   "cell_type": "code",
   "execution_count": 14,
   "id": "3d1dd91f",
   "metadata": {},
   "outputs": [
    {
     "data": {
      "text/plain": [
       "11"
      ]
     },
     "execution_count": 14,
     "metadata": {},
     "output_type": "execute_result"
    }
   ],
   "source": [
    "#for 99% variance\n",
    "n_components_99 = np.argmax(cumvar >= 0.99) + 1\n",
    "n_components_99"
   ]
  },
  {
   "cell_type": "code",
   "execution_count": 15,
   "id": "c902ad2f",
   "metadata": {},
   "outputs": [
    {
     "data": {
      "text/plain": [
       "PCA(n_components=7)"
      ]
     },
     "execution_count": 15,
     "metadata": {},
     "output_type": "execute_result"
    }
   ],
   "source": [
    "pca = PCA(n_components=n_components_95)\n",
    "pca.fit(myfile)"
   ]
  },
  {
   "cell_type": "code",
   "execution_count": 16,
   "id": "137358a0",
   "metadata": {},
   "outputs": [
    {
     "data": {
      "image/png": "[encoded data removed]",
      "text/plain": [
       "<Figure size 640x480 with 1 Axes>"
      ]
     },
     "metadata": {},
     "output_type": "display_data"
    }
   ],
   "source": [
    "plt.plot(cumvar)\n",
    "# Mark the number of components required to explain 95% and 99% of the variance\n",
    "plt.axvline(x=n_components_95, color='r', linestyle='--', label='95% Variance')\n",
    "plt.axvline(x=n_components_99, color='g', linestyle='--', label='99% Variance')\n",
    "plt.axhline(y=0.95, color='r', linestyle='--', label='95% Variance')\n",
    "plt.axhline(y=0.99, color='g', linestyle='--', label='99% Variance')\n",
    "\n",
    "plt.xlabel('Number of components')\n",
    "plt.ylabel('Cumulative explained variance')\n",
    "plt.legend(loc='best')\n",
    "plt.show()"
   ]
  },
  {
   "cell_type": "code",
   "execution_count": 17,
   "id": "4f4e22e9",
   "metadata": {},
   "outputs": [
    {
     "name": "stdout",
     "output_type": "stream",
     "text": [
      "Data lost: 5.47%\n"
     ]
    }
   ],
   "source": [
    "'''\n",
    "For 95% variance we have to take 6 components \n",
    "for 6 components we are finding data loss, the code is given below\n",
    "'''\n",
    "pca = PCA(n_components=6)\n",
    "pca.fit(myfile)\n",
    "\n",
    "# Calculate the amount of data lost\n",
    "data_lost = 1 - pca.explained_variance_ratio_.sum()\n",
    "\n",
    "print(\"Data lost: {:.2f}%\".format(100 * data_lost))"
   ]
  },
  {
   "cell_type": "code",
   "execution_count": 18,
   "id": "d219689f",
   "metadata": {},
   "outputs": [
    {
     "name": "stdout",
     "output_type": "stream",
     "text": [
      "Data lost: 0.53%\n"
     ]
    }
   ],
   "source": [
    "'''\n",
    "For 99% variance we have to take 9 components \n",
    "for 9 components we are finding data loss, the code is given below\n",
    "'''\n",
    "pca = PCA(n_components=9)\n",
    "pca.fit(myfile)\n",
    "\n",
    "# Calculate the amount of data lost\n",
    "data_lost = 1 - pca.explained_variance_ratio_.sum()\n",
    "\n",
    "print(\"Data lost: {:.2f}%\".format(100 * data_lost))"
   ]
  },
  {
   "cell_type": "code",
   "execution_count": 19,
   "id": "42885a7b",
   "metadata": {},
   "outputs": [
    {
     "data": {
      "text/plain": [
       "(1203588, 15)"
      ]
     },
     "execution_count": 19,
     "metadata": {},
     "output_type": "execute_result"
    }
   ],
   "source": [
    "#Feature extraction method\n",
    "from sklearn.decomposition import PCA\n",
    "pca = PCA(n_components=7)\n",
    "pca.fit(scaled_data)\n",
    "X_pca=pca.transform(scaled_data)\n",
    "scaled_data.shape"
   ]
  },
  {
   "cell_type": "code",
   "execution_count": 20,
   "id": "fb25faf3",
   "metadata": {},
   "outputs": [
    {
     "data": {
      "text/plain": [
       "(1203588, 7)"
      ]
     },
     "execution_count": 20,
     "metadata": {},
     "output_type": "execute_result"
    }
   ],
   "source": [
    "X_pca.shape"
   ]
  },
  {
   "cell_type": "code",
   "execution_count": 21,
   "id": "efaf3f72",
   "metadata": {},
   "outputs": [
    {
     "data": {
      "text/plain": [
       "array([[-2.54561245,  0.27347281, -0.62670888, ...,  7.56834237,\n",
       "        -0.90499267,  1.17952078],\n",
       "       [-2.54561245,  0.27347281, -0.62670888, ...,  7.56834237,\n",
       "        -0.90499267,  1.17952078],\n",
       "       [-2.54561245,  0.27347281, -0.62670888, ...,  7.56834237,\n",
       "        -0.90499267,  1.17952078],\n",
       "       ...,\n",
       "       [ 0.09505121,  0.54815145, -2.96956151, ..., -0.13771317,\n",
       "        -0.90499267, -0.84780193],\n",
       "       [ 0.09505121,  0.54815145, -1.19466474, ..., -0.13771317,\n",
       "        -0.90499267, -0.84780193],\n",
       "       [ 0.09505121,  0.54815145, -0.94934724, ..., -0.13771317,\n",
       "        -0.90499267, -0.84780193]])"
      ]
     },
     "execution_count": 21,
     "metadata": {},
     "output_type": "execute_result"
    }
   ],
   "source": [
    "scaled_data"
   ]
  },
  {
   "cell_type": "code",
   "execution_count": 22,
   "id": "fcc261dc",
   "metadata": {},
   "outputs": [
    {
     "data": {
      "text/plain": [
       "array([[ 4.26077707, -4.41718544,  1.54838291, ...,  1.00811201,\n",
       "         5.77323236, -0.43303923],\n",
       "       [ 4.26077707, -4.41718544,  1.54838291, ...,  1.00811201,\n",
       "         5.77323236, -0.43303923],\n",
       "       [ 4.26077707, -4.41718544,  1.54838291, ...,  1.00811201,\n",
       "         5.77323236, -0.43303923],\n",
       "       ...,\n",
       "       [ 4.72411493,  1.61048588, -0.52548109, ...,  0.27786658,\n",
       "        -1.84003457, -0.22892535],\n",
       "       [ 3.10370013,  0.76332661, -2.17651529, ...,  0.3406197 ,\n",
       "        -0.56819322, -0.40653333],\n",
       "       [ 2.26302443,  0.36654723, -1.01738171, ...,  0.64880693,\n",
       "        -0.67481694, -0.51865638]])"
      ]
     },
     "execution_count": 22,
     "metadata": {},
     "output_type": "execute_result"
    }
   ],
   "source": [
    "X_pca"
   ]
  },
  {
   "cell_type": "code",
   "execution_count": 23,
   "id": "84484900",
   "metadata": {},
   "outputs": [],
   "source": [
    "from sklearn.neighbors import KNeighborsClassifier\n",
    "from sklearn.model_selection import train_test_split\n",
    "import time"
   ]
  },
  {
   "cell_type": "code",
   "execution_count": 24,
   "id": "42c25a1c",
   "metadata": {},
   "outputs": [
    {
     "name": "stderr",
     "output_type": "stream",
     "text": [
      "D:\\Users\\Lenovo\\anaconda3\\lib\\site-packages\\sklearn\\neighbors\\_classification.py:228: FutureWarning: Unlike other reduction functions (e.g. `skew`, `kurtosis`), the default behavior of `mode` typically preserves the axis it acts along. In SciPy 1.11.0, this behavior will change: the default value of `keepdims` will become False, the `axis` over which the statistic is taken will be eliminated, and the value None will no longer be accepted. Set `keepdims` to True or False to avoid this warning.\n",
      "  mode, _ = stats.mode(_y[neigh_ind, k], axis=1)\n"
     ]
    },
    {
     "name": "stdout",
     "output_type": "stream",
     "text": [
      "Training time:  8.309422016143799\n",
      "Testing time:  15.46402645111084\n"
     ]
    }
   ],
   "source": [
    "# Split the data into training and test sets\n",
    "X_train, X_test, y_train, y_test = train_test_split(X_pca, y, test_size=0.2)\n",
    "\n",
    "# Create a K-NN classifier\n",
    "knn = KNeighborsClassifier(n_neighbors=14)\n",
    "start_time = time.time()\n",
    "knn.fit(X_train, y_train)\n",
    "\n",
    "training_time = time.time() - start_time\n",
    "start_time = time.time()\n",
    "\n",
    "# Get predictions for the test set\n",
    "y_pred = knn.predict(X_test)\n",
    "\n",
    "# Get the testing time\n",
    "testing_time = time.time() - start_time\n",
    "\n",
    "print(\"Training time: \", training_time)\n",
    "print(\"Testing time: \", testing_time)"
   ]
  },
  {
   "cell_type": "code",
   "execution_count": 25,
   "id": "731979c6",
   "metadata": {},
   "outputs": [
    {
     "name": "stderr",
     "output_type": "stream",
     "text": [
      "D:\\Users\\Lenovo\\anaconda3\\lib\\site-packages\\sklearn\\neighbors\\_classification.py:228: FutureWarning: Unlike other reduction functions (e.g. `skew`, `kurtosis`), the default behavior of `mode` typically preserves the axis it acts along. In SciPy 1.11.0, this behavior will change: the default value of `keepdims` will become False, the `axis` over which the statistic is taken will be eliminated, and the value None will no longer be accepted. Set `keepdims` to True or False to avoid this warning.\n",
      "  mode, _ = stats.mode(_y[neigh_ind, k], axis=1)\n"
     ]
    },
    {
     "name": "stdout",
     "output_type": "stream",
     "text": [
      "Accuracy:  0.9999584576143039\n",
      "Precision:  0.9999584605772575\n",
      "Recall:  0.9999584576143039\n",
      "F1-score:  0.9999584573218507\n"
     ]
    }
   ],
   "source": [
    "from sklearn.metrics import accuracy_score, precision_score, recall_score, f1_score\n",
    "# Get predictions for the test set\n",
    "y_pred = knn.predict(X_test)\n",
    "\n",
    "# Compute the accuracy\n",
    "accuracy = accuracy_score(y_test, y_pred)\n",
    "\n",
    "# Compute the precision\n",
    "precision = precision_score(y_test, y_pred, average='weighted')\n",
    "\n",
    "# Compute the recall\n",
    "recall = recall_score(y_test, y_pred, average='weighted')\n",
    "\n",
    "# Compute the F1-score\n",
    "F1 = f1_score(y_test, y_pred, average='weighted')\n",
    "\n",
    "print(\"Accuracy: \", accuracy)\n",
    "print(\"Precision: \", precision)\n",
    "print(\"Recall: \", recall)\n",
    "print(\"F1-score: \", F1)\n"
   ]
  },
  {
   "cell_type": "code",
   "execution_count": 26,
   "id": "a07aa216",
   "metadata": {},
   "outputs": [],
   "source": [
    "from sklearn.linear_model import LogisticRegression\n",
    "from sklearn.model_selection import train_test_split"
   ]
  },
  {
   "cell_type": "code",
   "execution_count": 27,
   "id": "d847dd68",
   "metadata": {},
   "outputs": [
    {
     "name": "stdout",
     "output_type": "stream",
     "text": [
      "Accuracy: 1.0\n"
     ]
    }
   ],
   "source": [
    "clf = LogisticRegression(random_state=42)\n",
    "clf.fit(X_train, y_train)\n",
    "\n",
    "# Make predictions on the test set\n",
    "y_pred = clf.predict(X_test)\n",
    "\n",
    "# Evaluate the model's performance\n",
    "from sklearn.metrics import accuracy_score\n",
    "print(\"Accuracy:\", accuracy_score(y_test, y_pred))"
   ]
  },
  {
   "cell_type": "code",
   "execution_count": 33,
   "id": "7217a5ad",
   "metadata": {},
   "outputs": [],
   "source": [
    "from sklearn.neural_network import MLPClassifier"
   ]
  },
  {
   "cell_type": "code",
   "execution_count": 35,
   "id": "45b46c90",
   "metadata": {},
   "outputs": [],
   "source": [
    "# Create an MLP classifier\n",
    "mlp = MLPClassifier(hidden_layer_sizes=(50,), max_iter=1000, random_state=42)\n",
    "\n",
    "# Fit the classifier to the training data\n",
    "mlp.fit(X_train, y_train)\n",
    "\n",
    "# Get predictions for the test set\n",
    "ym_pred = mlp.predict(X_test)"
   ]
  },
  {
   "cell_type": "code",
   "execution_count": 36,
   "id": "66b54475",
   "metadata": {},
   "outputs": [
    {
     "name": "stdout",
     "output_type": "stream",
     "text": [
      "[[140196      0]\n",
      " [     0 100522]]\n"
     ]
    }
   ],
   "source": [
    "from sklearn.metrics import classification_report,confusion_matrix\n",
    "print(confusion_matrix(y_test,ym_pred))"
   ]
  },
  {
   "cell_type": "code",
   "execution_count": 37,
   "id": "28a9f837",
   "metadata": {},
   "outputs": [
    {
     "name": "stdout",
     "output_type": "stream",
     "text": [
      "Accuracy:  1.0\n",
      "Precision:  1.0\n",
      "Recall:  1.0\n",
      "F1-score:  1.0\n"
     ]
    }
   ],
   "source": [
    "# Compute the accuracy\n",
    "accuracy = accuracy_score(y_test, ym_pred)\n",
    "\n",
    "# Compute the precision\n",
    "precision = precision_score(y_test, ym_pred, average='weighted')\n",
    "\n",
    "# Compute the recall\n",
    "recall = recall_score(y_test, ym_pred, average='weighted')\n",
    "\n",
    "# Compute the F1-score\n",
    "f1 = f1_score(y_test, ym_pred, average='weighted')\n",
    "\n",
    "print(\"Accuracy: \", accuracy)\n",
    "print(\"Precision: \", precision)\n",
    "print(\"Recall: \", recall)\n",
    "print(\"F1-score: \", f1)"
   ]
  },
  {
   "cell_type": "code",
   "execution_count": null,
   "id": "2f102ded",
   "metadata": {},
   "outputs": [],
   "source": []
  }
 ],
 "metadata": {
  "kernelspec": {
   "display_name": "Python 3 (ipykernel)",
   "language": "python",
   "name": "python3"
  },
  "language_info": {
   "codemirror_mode": {
    "name": "ipython",
    "version": 3
   },
   "file_extension": ".py",
   "mimetype": "text/x-python",
   "name": "python",
   "nbconvert_exporter": "python",
   "pygments_lexer": "ipython3",
   "version": "3.9.13"
  }
 },
 "nbformat": 4,
 "nbformat_minor": 5
}
