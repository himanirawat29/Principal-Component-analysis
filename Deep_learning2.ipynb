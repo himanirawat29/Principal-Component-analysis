{
 "cells": [
  {
   "cell_type": "code",
   "execution_count": 1,
   "id": "5d34309a",
   "metadata": {},
   "outputs": [],
   "source": [
    "#importlibraries\n",
    "import pandas as pd\n",
    "import matplotlib.pyplot as plt\n",
    "import seaborn as sns"
   ]
  },
  {
   "cell_type": "code",
   "execution_count": 2,
   "id": "5998c0ce",
   "metadata": {},
   "outputs": [],
   "source": [
    "myfile = pd.read_csv('C:/Users/Lenovo/Downloads/VN_tf.csv')"
   ]
  },
  {
   "cell_type": "code",
   "execution_count": 3,
   "id": "b466c37b",
   "metadata": {},
   "outputs": [
    {
     "name": "stdout",
     "output_type": "stream",
     "text": [
      "<class 'pandas.core.frame.DataFrame'>\n",
      "RangeIndex: 1203588 entries, 0 to 1203587\n",
      "Data columns (total 15 columns):\n",
      " #   Column                           Non-Null Count    Dtype  \n",
      "---  ------                           --------------    -----  \n",
      " 0   Length                           1203588 non-null  float64\n",
      " 1   Info                             1203588 non-null  float64\n",
      " 2   Transmission Rate (per 1000 ms)  1203588 non-null  float64\n",
      " 3   Reception Rate (per 1000 ms)     1203588 non-null  float64\n",
      " 4   TR / RR                          1203588 non-null  float64\n",
      " 5   Sources Count Per Sec            1203588 non-null  float64\n",
      " 6   Destinations Count Per Sec       1203588 non-null  float64\n",
      " 7   Trans Total Duration Per Sec     1203588 non-null  float64\n",
      " 8   Rcv Total Duration Per Sec       1203588 non-null  float64\n",
      " 9   Trans Average Per Sec            1203588 non-null  float64\n",
      " 10  Rcv Average Per Sec              1203588 non-null  float64\n",
      " 11  DAO                              1203588 non-null  float64\n",
      " 12  DIS                              1203588 non-null  float64\n",
      " 13  DIO                              1203588 non-null  float64\n",
      " 14  Label                            1203588 non-null  int64  \n",
      "dtypes: float64(14), int64(1)\n",
      "memory usage: 137.7 MB\n"
     ]
    }
   ],
   "source": [
    "myfile.info()"
   ]
  },
  {
   "cell_type": "code",
   "execution_count": 4,
   "id": "a93bd388",
   "metadata": {},
   "outputs": [
    {
     "data": {
      "text/html": [
       "<div>\n",
       "<style scoped>\n",
       "    .dataframe tbody tr th:only-of-type {\n",
       "        vertical-align: middle;\n",
       "    }\n",
       "\n",
       "    .dataframe tbody tr th {\n",
       "        vertical-align: top;\n",
       "    }\n",
       "\n",
       "    .dataframe thead th {\n",
       "        text-align: right;\n",
       "    }\n",
       "</style>\n",
       "<table border=\"1\" class=\"dataframe\">\n",
       "  <thead>\n",
       "    <tr style=\"text-align: right;\">\n",
       "      <th></th>\n",
       "      <th>Length</th>\n",
       "      <th>Info</th>\n",
       "      <th>Transmission Rate (per 1000 ms)</th>\n",
       "      <th>Reception Rate (per 1000 ms)</th>\n",
       "      <th>TR / RR</th>\n",
       "      <th>Sources Count Per Sec</th>\n",
       "      <th>Destinations Count Per Sec</th>\n",
       "      <th>Trans Total Duration Per Sec</th>\n",
       "      <th>Rcv Total Duration Per Sec</th>\n",
       "      <th>Trans Average Per Sec</th>\n",
       "      <th>Rcv Average Per Sec</th>\n",
       "      <th>DAO</th>\n",
       "      <th>DIS</th>\n",
       "      <th>DIO</th>\n",
       "      <th>Label</th>\n",
       "    </tr>\n",
       "  </thead>\n",
       "  <tbody>\n",
       "    <tr>\n",
       "      <th>0</th>\n",
       "      <td>0.0</td>\n",
       "      <td>0.491786</td>\n",
       "      <td>0.437764</td>\n",
       "      <td>0.764212</td>\n",
       "      <td>0.27632</td>\n",
       "      <td>0.438505</td>\n",
       "      <td>0.755007</td>\n",
       "      <td>0.482277</td>\n",
       "      <td>0.729485</td>\n",
       "      <td>0.685771</td>\n",
       "      <td>0.459108</td>\n",
       "      <td>0.0</td>\n",
       "      <td>1.0</td>\n",
       "      <td>0.0</td>\n",
       "      <td>1</td>\n",
       "    </tr>\n",
       "    <tr>\n",
       "      <th>1</th>\n",
       "      <td>0.0</td>\n",
       "      <td>0.491786</td>\n",
       "      <td>0.437764</td>\n",
       "      <td>0.764212</td>\n",
       "      <td>0.27632</td>\n",
       "      <td>0.438505</td>\n",
       "      <td>0.755007</td>\n",
       "      <td>0.482277</td>\n",
       "      <td>0.729485</td>\n",
       "      <td>0.685771</td>\n",
       "      <td>0.459108</td>\n",
       "      <td>0.0</td>\n",
       "      <td>1.0</td>\n",
       "      <td>0.0</td>\n",
       "      <td>1</td>\n",
       "    </tr>\n",
       "    <tr>\n",
       "      <th>2</th>\n",
       "      <td>0.0</td>\n",
       "      <td>0.491786</td>\n",
       "      <td>0.437764</td>\n",
       "      <td>0.764212</td>\n",
       "      <td>0.27632</td>\n",
       "      <td>0.438505</td>\n",
       "      <td>0.755007</td>\n",
       "      <td>0.482277</td>\n",
       "      <td>0.729485</td>\n",
       "      <td>0.685771</td>\n",
       "      <td>0.459108</td>\n",
       "      <td>0.0</td>\n",
       "      <td>1.0</td>\n",
       "      <td>0.0</td>\n",
       "      <td>1</td>\n",
       "    </tr>\n",
       "    <tr>\n",
       "      <th>3</th>\n",
       "      <td>0.0</td>\n",
       "      <td>0.491786</td>\n",
       "      <td>0.437764</td>\n",
       "      <td>0.764212</td>\n",
       "      <td>0.27632</td>\n",
       "      <td>0.438505</td>\n",
       "      <td>0.755007</td>\n",
       "      <td>0.482277</td>\n",
       "      <td>0.729485</td>\n",
       "      <td>0.685771</td>\n",
       "      <td>0.459108</td>\n",
       "      <td>0.0</td>\n",
       "      <td>1.0</td>\n",
       "      <td>0.0</td>\n",
       "      <td>1</td>\n",
       "    </tr>\n",
       "    <tr>\n",
       "      <th>4</th>\n",
       "      <td>0.0</td>\n",
       "      <td>0.491786</td>\n",
       "      <td>0.437764</td>\n",
       "      <td>0.764212</td>\n",
       "      <td>0.27632</td>\n",
       "      <td>0.438505</td>\n",
       "      <td>0.755007</td>\n",
       "      <td>0.482277</td>\n",
       "      <td>0.729485</td>\n",
       "      <td>0.685771</td>\n",
       "      <td>0.459108</td>\n",
       "      <td>0.0</td>\n",
       "      <td>1.0</td>\n",
       "      <td>0.0</td>\n",
       "      <td>1</td>\n",
       "    </tr>\n",
       "  </tbody>\n",
       "</table>\n",
       "</div>"
      ],
      "text/plain": [
       "   Length      Info  Transmission Rate (per 1000 ms)  \\\n",
       "0     0.0  0.491786                         0.437764   \n",
       "1     0.0  0.491786                         0.437764   \n",
       "2     0.0  0.491786                         0.437764   \n",
       "3     0.0  0.491786                         0.437764   \n",
       "4     0.0  0.491786                         0.437764   \n",
       "\n",
       "   Reception Rate (per 1000 ms)  TR / RR  Sources Count Per Sec  \\\n",
       "0                      0.764212  0.27632               0.438505   \n",
       "1                      0.764212  0.27632               0.438505   \n",
       "2                      0.764212  0.27632               0.438505   \n",
       "3                      0.764212  0.27632               0.438505   \n",
       "4                      0.764212  0.27632               0.438505   \n",
       "\n",
       "   Destinations Count Per Sec  Trans Total Duration Per Sec  \\\n",
       "0                    0.755007                      0.482277   \n",
       "1                    0.755007                      0.482277   \n",
       "2                    0.755007                      0.482277   \n",
       "3                    0.755007                      0.482277   \n",
       "4                    0.755007                      0.482277   \n",
       "\n",
       "   Rcv Total Duration Per Sec  Trans Average Per Sec  Rcv Average Per Sec  \\\n",
       "0                    0.729485               0.685771             0.459108   \n",
       "1                    0.729485               0.685771             0.459108   \n",
       "2                    0.729485               0.685771             0.459108   \n",
       "3                    0.729485               0.685771             0.459108   \n",
       "4                    0.729485               0.685771             0.459108   \n",
       "\n",
       "   DAO  DIS  DIO  Label  \n",
       "0  0.0  1.0  0.0      1  \n",
       "1  0.0  1.0  0.0      1  \n",
       "2  0.0  1.0  0.0      1  \n",
       "3  0.0  1.0  0.0      1  \n",
       "4  0.0  1.0  0.0      1  "
      ]
     },
     "execution_count": 4,
     "metadata": {},
     "output_type": "execute_result"
    }
   ],
   "source": [
    "myfile.head(5)"
   ]
  },
  {
   "cell_type": "code",
   "execution_count": 5,
   "id": "136449b7",
   "metadata": {},
   "outputs": [],
   "source": [
    "#target value \"Label\"\n",
    "x = myfile.drop([\"Label\"],axis = 1)\n",
    "y = myfile[\"Label\"]"
   ]
  },
  {
   "cell_type": "code",
   "execution_count": 6,
   "id": "40fd2666",
   "metadata": {},
   "outputs": [
    {
     "data": {
      "text/plain": [
       "0    700262\n",
       "1    503326\n",
       "Name: Label, dtype: int64"
      ]
     },
     "execution_count": 6,
     "metadata": {},
     "output_type": "execute_result"
    }
   ],
   "source": [
    "y.value_counts()"
   ]
  },
  {
   "cell_type": "code",
   "execution_count": 7,
   "id": "3d06e052",
   "metadata": {},
   "outputs": [
    {
     "data": {
      "text/plain": [
       "<AxesSubplot:ylabel='Label'>"
      ]
     },
     "execution_count": 7,
     "metadata": {},
     "output_type": "execute_result"
    },
    {
     "data": {
      "image/png": "[encoded data removed]",
      "text/plain": [
       "<Figure size 640x480 with 1 Axes>"
      ]
     },
     "metadata": {},
     "output_type": "display_data"
    }
   ],
   "source": [
    "#show pie plot\n",
    "y.value_counts().plot.pie(autopct = \"%.2f\")"
   ]
  },
  {
   "cell_type": "code",
   "execution_count": 8,
   "id": "47fa4e88",
   "metadata": {},
   "outputs": [
    {
     "data": {
      "image/png": "[encoded data removed]",
      "text/plain": [
       "<Figure size 640x480 with 1 Axes>"
      ]
     },
     "metadata": {},
     "output_type": "display_data"
    }
   ],
   "source": [
    "#oversampling\n",
    "from imblearn.over_sampling import RandomOverSampler\n",
    "\n",
    "ros = RandomOverSampler(sampling_strategy = 1) \n",
    "x_res, y_res = ros.fit_resample(x, y)\n",
    "\n",
    "ax = y_res.value_counts().plot.pie(autopct='%.2f')\n",
    "_ = ax.set_title(\"Over-sampling\")\n",
    "\n"
   ]
  },
  {
   "cell_type": "code",
   "execution_count": 9,
   "id": "26378a92",
   "metadata": {},
   "outputs": [
    {
     "data": {
      "text/plain": [
       "1    700262\n",
       "0    700262\n",
       "Name: Label, dtype: int64"
      ]
     },
     "execution_count": 9,
     "metadata": {},
     "output_type": "execute_result"
    }
   ],
   "source": [
    "y_res.value_counts()"
   ]
  },
  {
   "cell_type": "code",
   "execution_count": 10,
   "id": "7bf65322",
   "metadata": {},
   "outputs": [],
   "source": [
    "from imblearn.over_sampling import SMOTE\n",
    "\n",
    "sm = SMOTE(random_state=42)\n",
    "x_resampled, y_resampled = sm.fit_resample(x, y)"
   ]
  },
  {
   "cell_type": "code",
   "execution_count": 11,
   "id": "bcf62822",
   "metadata": {},
   "outputs": [
    {
     "data": {
      "text/plain": [
       "array([[-2.54561245,  0.27347281, -0.62670888, ...,  7.56834237,\n",
       "        -0.90499267,  1.17952078],\n",
       "       [-2.54561245,  0.27347281, -0.62670888, ...,  7.56834237,\n",
       "        -0.90499267,  1.17952078],\n",
       "       [-2.54561245,  0.27347281, -0.62670888, ...,  7.56834237,\n",
       "        -0.90499267,  1.17952078],\n",
       "       ...,\n",
       "       [ 0.09505121,  0.54815145, -2.96956151, ..., -0.13771317,\n",
       "        -0.90499267, -0.84780193],\n",
       "       [ 0.09505121,  0.54815145, -1.19466474, ..., -0.13771317,\n",
       "        -0.90499267, -0.84780193],\n",
       "       [ 0.09505121,  0.54815145, -0.94934724, ..., -0.13771317,\n",
       "        -0.90499267, -0.84780193]])"
      ]
     },
     "execution_count": 11,
     "metadata": {},
     "output_type": "execute_result"
    }
   ],
   "source": [
    "from sklearn.preprocessing import MinMaxScaler\n",
    "from sklearn.preprocessing import StandardScaler\n",
    "scaler= StandardScaler()\n",
    "scaler.fit(myfile)\n",
    "scaled_data = scaler.transform(myfile)\n",
    "scaled_data"
   ]
  },
  {
   "cell_type": "code",
   "execution_count": 12,
   "id": "20919f8a",
   "metadata": {},
   "outputs": [
    {
     "data": {
      "text/plain": [
       "(1203588, 15)"
      ]
     },
     "execution_count": 12,
     "metadata": {},
     "output_type": "execute_result"
    }
   ],
   "source": [
    "#Feature extraction method\n",
    "from sklearn.decomposition import PCA\n",
    "pca = PCA(n_components=5)\n",
    "pca.fit(scaled_data)\n",
    "x_pca=pca.transform(scaled_data)\n",
    "scaled_data.shape"
   ]
  },
  {
   "cell_type": "code",
   "execution_count": 13,
   "id": "fb25faf3",
   "metadata": {},
   "outputs": [
    {
     "data": {
      "text/plain": [
       "(1203588, 5)"
      ]
     },
     "execution_count": 13,
     "metadata": {},
     "output_type": "execute_result"
    }
   ],
   "source": [
    "x_pca.shape"
   ]
  },
  {
   "cell_type": "code",
   "execution_count": 14,
   "id": "efaf3f72",
   "metadata": {},
   "outputs": [
    {
     "data": {
      "text/plain": [
       "array([[-2.54561245,  0.27347281, -0.62670888, ...,  7.56834237,\n",
       "        -0.90499267,  1.17952078],\n",
       "       [-2.54561245,  0.27347281, -0.62670888, ...,  7.56834237,\n",
       "        -0.90499267,  1.17952078],\n",
       "       [-2.54561245,  0.27347281, -0.62670888, ...,  7.56834237,\n",
       "        -0.90499267,  1.17952078],\n",
       "       ...,\n",
       "       [ 0.09505121,  0.54815145, -2.96956151, ..., -0.13771317,\n",
       "        -0.90499267, -0.84780193],\n",
       "       [ 0.09505121,  0.54815145, -1.19466474, ..., -0.13771317,\n",
       "        -0.90499267, -0.84780193],\n",
       "       [ 0.09505121,  0.54815145, -0.94934724, ..., -0.13771317,\n",
       "        -0.90499267, -0.84780193]])"
      ]
     },
     "execution_count": 14,
     "metadata": {},
     "output_type": "execute_result"
    }
   ],
   "source": [
    "scaled_data"
   ]
  },
  {
   "cell_type": "code",
   "execution_count": 15,
   "id": "fcc261dc",
   "metadata": {},
   "outputs": [
    {
     "data": {
      "text/plain": [
       "array([[ 4.26077707, -4.41718544,  1.54838291,  4.05036127,  1.00811201],\n",
       "       [ 4.26077707, -4.41718544,  1.54838291,  4.05036127,  1.00811201],\n",
       "       [ 4.26077707, -4.41718544,  1.54838291,  4.05036127,  1.00811201],\n",
       "       ...,\n",
       "       [ 4.72411493,  1.61048588, -0.52548109,  2.39709991,  0.27786658],\n",
       "       [ 3.10370013,  0.76332661, -2.17651529,  0.34417095,  0.3406197 ],\n",
       "       [ 2.26302443,  0.36654723, -1.01738171,  0.25341042,  0.64880693]])"
      ]
     },
     "execution_count": 15,
     "metadata": {},
     "output_type": "execute_result"
    }
   ],
   "source": [
    "x_pca"
   ]
  },
  {
   "cell_type": "code",
   "execution_count": 16,
   "id": "84484900",
   "metadata": {},
   "outputs": [],
   "source": [
    "from sklearn.neighbors import KNeighborsClassifier\n",
    "from sklearn.model_selection import train_test_split\n",
    "import time"
   ]
  },
  {
   "cell_type": "code",
   "execution_count": 17,
   "id": "42c25a1c",
   "metadata": {},
   "outputs": [
    {
     "name": "stderr",
     "output_type": "stream",
     "text": [
      "D:\\Users\\Lenovo\\anaconda3\\lib\\site-packages\\sklearn\\neighbors\\_classification.py:228: FutureWarning: Unlike other reduction functions (e.g. `skew`, `kurtosis`), the default behavior of `mode` typically preserves the axis it acts along. In SciPy 1.11.0, this behavior will change: the default value of `keepdims` will become False, the `axis` over which the statistic is taken will be eliminated, and the value None will no longer be accepted. Set `keepdims` to True or False to avoid this warning.\n",
      "  mode, _ = stats.mode(_y[neigh_ind, k], axis=1)\n"
     ]
    },
    {
     "name": "stdout",
     "output_type": "stream",
     "text": [
      "Training time:  5.523246765136719\n",
      "Testing time:  13.32784366607666\n"
     ]
    }
   ],
   "source": [
    "# Split the data into training and test sets\n",
    "X_train, X_test, y_train, y_test = train_test_split(x_pca, y, test_size=0.2)\n",
    "\n",
    "# Create a K-NN classifier\n",
    "knn = KNeighborsClassifier(n_neighbors=14)\n",
    "start_time = time.time()\n",
    "knn.fit(X_train, y_train)\n",
    "\n",
    "training_time = time.time() - start_time\n",
    "start_time = time.time()\n",
    "\n",
    "# Get predictions for the test set\n",
    "y_pred = knn.predict(X_test)\n",
    "\n",
    "# Get the testing time\n",
    "testing_time = time.time() - start_time\n",
    "\n",
    "print(\"Training time: \", training_time)\n",
    "print(\"Testing time: \", testing_time)"
   ]
  },
  {
   "cell_type": "code",
   "execution_count": 18,
   "id": "731979c6",
   "metadata": {},
   "outputs": [
    {
     "name": "stderr",
     "output_type": "stream",
     "text": [
      "D:\\Users\\Lenovo\\anaconda3\\lib\\site-packages\\sklearn\\neighbors\\_classification.py:228: FutureWarning: Unlike other reduction functions (e.g. `skew`, `kurtosis`), the default behavior of `mode` typically preserves the axis it acts along. In SciPy 1.11.0, this behavior will change: the default value of `keepdims` will become False, the `axis` over which the statistic is taken will be eliminated, and the value None will no longer be accepted. Set `keepdims` to True or False to avoid this warning.\n",
      "  mode, _ = stats.mode(_y[neigh_ind, k], axis=1)\n"
     ]
    },
    {
     "name": "stdout",
     "output_type": "stream",
     "text": [
      "Accuracy:  0.9999709203300127\n",
      "Precision:  0.9999709217834771\n",
      "Recall:  0.9999709203300127\n",
      "F1-score:  0.999970920187888\n"
     ]
    }
   ],
   "source": [
    "from sklearn.metrics import accuracy_score, precision_score, recall_score, f1_score\n",
    "# Get predictions for the test set\n",
    "y_pred = knn.predict(X_test)\n",
    "\n",
    "# Compute the accuracy\n",
    "accuracy = accuracy_score(y_test, y_pred)\n",
    "\n",
    "# Compute the precision\n",
    "precision = precision_score(y_test, y_pred, average='weighted')\n",
    "\n",
    "# Compute the recall\n",
    "recall = recall_score(y_test, y_pred, average='weighted')\n",
    "\n",
    "# Compute the F1-score\n",
    "F1 = f1_score(y_test, y_pred, average='weighted')\n",
    "\n",
    "print(\"Accuracy: \", accuracy)\n",
    "print(\"Precision: \", precision)\n",
    "print(\"Recall: \", recall)\n",
    "print(\"F1-score: \", F1)\n"
   ]
  },
  {
   "cell_type": "code",
   "execution_count": 19,
   "id": "a07aa216",
   "metadata": {},
   "outputs": [],
   "source": [
    "from sklearn.linear_model import LogisticRegression\n",
    "from sklearn.model_selection import train_test_split"
   ]
  },
  {
   "cell_type": "code",
   "execution_count": 20,
   "id": "a42e835c",
   "metadata": {},
   "outputs": [
    {
     "name": "stdout",
     "output_type": "stream",
     "text": [
      "Accuracy: 0.9950772272950091\n"
     ]
    }
   ],
   "source": [
    "clf = LogisticRegression(random_state=42)\n",
    "clf.fit(X_train, y_train)\n",
    "\n",
    "# Make predictions on the test set\n",
    "y_pred = clf.predict(X_test)\n",
    "\n",
    "# Evaluate the model's performance\n",
    "from sklearn.metrics import accuracy_score\n",
    "print(\"Accuracy:\", accuracy_score(y_test, y_pred))"
   ]
  },
  {
   "cell_type": "code",
   "execution_count": null,
   "id": "cfdcee1c",
   "metadata": {},
   "outputs": [],
   "source": []
  }
 ],
 "metadata": {
  "kernelspec": {
   "display_name": "Python 3 (ipykernel)",
   "language": "python",
   "name": "python3"
  },
  "language_info": {
   "codemirror_mode": {
    "name": "ipython",
    "version": 3
   },
   "file_extension": ".py",
   "mimetype": "text/x-python",
   "name": "python",
   "nbconvert_exporter": "python",
   "pygments_lexer": "ipython3",
   "version": "3.9.13"
  }
 },
 "nbformat": 4,
 "nbformat_minor": 5
}
